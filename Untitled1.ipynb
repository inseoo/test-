{
  "nbformat": 4,
  "nbformat_minor": 0,
  "metadata": {
    "colab": {
      "provenance": [],
      "authorship_tag": "ABX9TyP9aO/FGjKmLa64wdj5CqFB",
      "include_colab_link": true
    },
    "kernelspec": {
      "name": "python3",
      "display_name": "Python 3"
    },
    "language_info": {
      "name": "python"
    }
  },
  "cells": [
    {
      "cell_type": "markdown",
      "metadata": {
        "id": "view-in-github",
        "colab_type": "text"
      },
      "source": [
        "<a href=\"https://colab.research.google.com/github/inseoo/test-/blob/main/Untitled1.ipynb\" target=\"_parent\"><img src=\"https://colab.research.google.com/assets/colab-badge.svg\" alt=\"Open In Colab\"/></a>"
      ]
    },
    {
      "cell_type": "markdown",
      "source": [
        "19. 다음 보기의 사칙연산을 완성하시오. 한줄에 모두, 여러줄로 나누어서, 보기좋게 정리."
      ],
      "metadata": {
        "id": "rV1FKuQtTnc9"
      }
    },
    {
      "cell_type": "code",
      "source": [
        "print(1+2, 2-3, 3*4, 4/4)  \n",
        "print(1+2)\n",
        "print(2-3)\n",
        "print(3*4)\n",
        "print(4/4)"
      ],
      "metadata": {
        "colab": {
          "base_uri": "https://localhost:8080/"
        },
        "id": "fHForzqyT0oD",
        "outputId": "6877b60b-ad87-41b7-f793-5e8887d1699e"
      },
      "execution_count": 1,
      "outputs": [
        {
          "output_type": "stream",
          "name": "stdout",
          "text": [
            "3 -1 12 1.0\n",
            "3\n",
            "-1\n",
            "12\n",
            "1.0\n"
          ]
        }
      ]
    },
    {
      "cell_type": "markdown",
      "source": [
        "아래의 출력화면을 간결하고 보기좋게 코딩하시오.\n",
        "*********************************\n",
        "* 제1조 1항 대한민국은 민주공화국이다. *\n",
        "*********************************"
      ],
      "metadata": {
        "id": "CIWfrr3vU2UU"
      }
    },
    {
      "cell_type": "code",
      "source": [
        "print(\"*\"* 40)\n",
        "print(\"* 제1조항 1항 대한민국은 민주공화국이다. *\")\n",
        "print(\"*\"* 40)"
      ],
      "metadata": {
        "colab": {
          "base_uri": "https://localhost:8080/"
        },
        "id": "TaRm5OLQU2cU",
        "outputId": "a3df1d28-a784-4f88-a3d5-0440c65e49bb"
      },
      "execution_count": 4,
      "outputs": [
        {
          "output_type": "stream",
          "name": "stdout",
          "text": [
            "****************************************\n",
            "* 제1조항 1항 대한민국은 민주공화국이다. *\n",
            "****************************************\n"
          ]
        }
      ]
    },
    {
      "cell_type": "markdown",
      "source": [
        "21. 사용자에게 성명, 나이, 주소를 입력받아서 출력하라."
      ],
      "metadata": {
        "id": "idqsa56QWR_z"
      }
    },
    {
      "cell_type": "code",
      "source": [
        "name=input(\"이름을 입력하시오:\")\n",
        "age=input(\"나이를 입력하시오:\")\n",
        "addr=input(\"주소를 입력하시오:\")\n",
        "print(name)\n",
        "print(age)\n",
        "print(addr)\n",
        "print(name, age, addr)"
      ],
      "metadata": {
        "colab": {
          "base_uri": "https://localhost:8080/"
        },
        "id": "e1Q-Wzx9WSj6",
        "outputId": "307964ca-a2db-46f0-855c-e92cd8a22daa"
      },
      "execution_count": 5,
      "outputs": [
        {
          "output_type": "stream",
          "name": "stdout",
          "text": [
            "이름을 입력하시오:조인서\n",
            "나이를 입력하시오:20\n",
            "주소를 입력하시오:충남 서천군 장항읍 신창리 176-44\n",
            "조인서\n",
            "20\n",
            "충남 서천군 장항읍 신창리 176-44\n",
            "조인서 20 충남 서천군 장항읍 신창리 176-44\n"
          ]
        }
      ]
    },
    {
      "cell_type": "markdown",
      "source": [
        "22. 터틀그래픽 사용법에 대해서 코딩하고 설명하시오."
      ],
      "metadata": {
        "id": "Gfro1NMBXTTr"
      }
    },
    {
      "cell_type": "markdown",
      "source": [
        "import turtle\n",
        "t=turtle.Turtle() *\n",
        "t.forward(100)\n",
        "t.left(90)"
      ],
      "metadata": {
        "id": "Idk5zWPtXZnb"
      }
    },
    {
      "cell_type": "markdown",
      "source": [
        "29. 아래의 보기와 같이 두 가지 방법을 코딩하시오.(숫자를 받으려면 int함수를 사용해야 한다.("
      ],
      "metadata": {
        "id": "7yvgf8UeX9OU"
      }
    },
    {
      "cell_type": "code",
      "source": [
        "n1=input(\"첫 번째 정수를 입력하시오:\")\n",
        "n2=input(\"두 번째 정수를 입력하시오:\")\n",
        "print(\"두 합의 값은\", n1+n2, \"입니다.\")"
      ],
      "metadata": {
        "colab": {
          "base_uri": "https://localhost:8080/"
        },
        "id": "1Y0SGVnCZtE6",
        "outputId": "209080d9-8ccf-4a59-ba5b-1040321c102b"
      },
      "execution_count": 6,
      "outputs": [
        {
          "output_type": "stream",
          "name": "stdout",
          "text": [
            "첫 번째 정수를 입력하시오:100\n",
            "두 번째 정수를 입력하시오:100\n",
            "두 합의 값은 100100 입니다.\n"
          ]
        }
      ]
    },
    {
      "cell_type": "code",
      "source": [
        "n1=int(input(\"첫 번째 정수를 입력하시오:\"))\n",
        "n2=int(input(\"두 번째 정수를 입력하시오:\"))\n",
        "print(\"두 합의 값은\", n1+n2, \"입니다.\")"
      ],
      "metadata": {
        "colab": {
          "base_uri": "https://localhost:8080/"
        },
        "id": "gmM4-gfLaX_8",
        "outputId": "134fed3a-26fb-411b-a56d-69b57770d420"
      },
      "execution_count": 7,
      "outputs": [
        {
          "output_type": "stream",
          "name": "stdout",
          "text": [
            "첫 번째 정수를 입력하시오:100\n",
            "두 번째 정수를 입력하시오:100\n",
            "두 합의 값은 200 입니다.\n"
          ]
        }
      ]
    }
  ]
}